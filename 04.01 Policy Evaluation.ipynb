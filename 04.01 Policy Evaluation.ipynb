{
 "cells": [
  {
   "cell_type": "markdown",
   "metadata": {},
   "source": [
    "# Policy Evaluation"
   ]
  },
  {
   "cell_type": "markdown",
   "metadata": {},
   "source": [
    "**Author:** ZHENG Wenjie\n",
    "\n",
    "**Last Update:** 2021-08-25"
   ]
  },
  {
   "cell_type": "markdown",
   "metadata": {},
   "source": [
    "This notebook is related to Section 4.1 of the book. It studies the policy evaluation problem for the GridWorld structure. In particular, it implements three methods: directly solving the linear system, fixed-point iteration, and in-place fixed-point iteration."
   ]
  },
  {
   "cell_type": "markdown",
   "metadata": {},
   "source": [
    "The theoretic guarantee of the convergence of the algorithms is thanks to the compressing mapping theorem. The transition matrix is a stochastic matrix (i.e., the row sums equal to 1 => the largest eigenvalue is 1), and it is then multiplied by $\\gamma<1$."
   ]
  },
  {
   "cell_type": "code",
   "execution_count": 1,
   "metadata": {},
   "outputs": [],
   "source": [
    "import numpy as np"
   ]
  },
  {
   "cell_type": "code",
   "execution_count": 2,
   "metadata": {},
   "outputs": [],
   "source": [
    "class Maze:\n",
    "    def __init__(self, m, n, exit=None, teleport=None, reward=None):\n",
    "        self.m = m\n",
    "        self.n = n\n",
    "        self.exit = exit\n",
    "        self.link = np.zeros((m*n, 4), dtype=int)\n",
    "        for i in range(m*n):\n",
    "            if teleport is None or i not in teleport:\n",
    "                j = i - n\n",
    "                j = i if j<0 else j\n",
    "                self.link[i, 0] = j\n",
    "                j = i - 1\n",
    "                j = i if j%n==n-1 else j\n",
    "                self.link[i, 1] = j\n",
    "                j = i + 1\n",
    "                j = i if j%n==0 else j\n",
    "                self.link[i, 2] = j\n",
    "                j = i + n\n",
    "                j = i if j>=m*n else j\n",
    "                self.link[i, 3] = j\n",
    "            else:\n",
    "                self.link[i, :] = teleport[i]\n",
    "                \n",
    "        self.reward = reward\n",
    "        \n",
    "    def evaluate(self, γ, π=None, direct=True, inplace=False, n_iter=60):\n",
    "        m, n = self.m, self.n\n",
    "        if π is None:\n",
    "            π = np.full((m*n, 4), 0.25)\n",
    "\n",
    "        if direct or not inplace:\n",
    "            A = np.zeros((m*n, m*n))\n",
    "            for i in range(m*n):\n",
    "                for j in range(4):\n",
    "                    A[i, self.link[i, j]] += π[i, j]\n",
    "            b = np.sum(π * self.reward, axis=1)\n",
    "            \n",
    "        if direct:\n",
    "            return np.linalg.solve(np.eye(m*n)-γ*A, b).reshape(m, n)\n",
    "        \n",
    "        if not inplace:\n",
    "            trace = [np.zeros(m*n)]\n",
    "            for _ in range(n_iter):\n",
    "                trace.append(γ * np.dot(A, trace[-1]) + b)\n",
    "            return trace\n",
    "        else:\n",
    "            trace = []\n",
    "            v = np.zeros(m*n)\n",
    "            for _ in range(n_iter):\n",
    "                for i in range(m*n):\n",
    "                    v[i] = sum(π[i, :] * (self.reward[i, :] + γ*v[self.link[i, :]]))\n",
    "                    trace.append(v[i])\n",
    "            return v, trace"
   ]
  },
  {
   "cell_type": "code",
   "execution_count": 3,
   "metadata": {},
   "outputs": [],
   "source": [
    "reward = np.zeros((5*5, 4))\n",
    "for i in range(5):\n",
    "    reward[i, 0] = -1\n",
    "for i in range(0, 5*5, 5):\n",
    "    reward[i, 1] = -1\n",
    "for i in range(4, 5*5, 5):\n",
    "    reward[i, 2] = -1\n",
    "for i in range(20, 5*5):\n",
    "    reward[i, 3] = -1\n",
    "reward[1, :] = 10\n",
    "reward[3, :] = 5\n",
    "\n",
    "maze1 = Maze(5, 5, teleport={1:21, 3:13}, reward=reward)"
   ]
  },
  {
   "cell_type": "code",
   "execution_count": 4,
   "metadata": {},
   "outputs": [
    {
     "data": {
      "text/plain": [
       "array([[ 3.30899634,  8.78929186,  4.42761918,  5.32236759,  1.49217876],\n",
       "       [ 1.52158807,  2.99231786,  2.25013995,  1.9075717 ,  0.54740271],\n",
       "       [ 0.05082249,  0.73817059,  0.67311326,  0.35818621, -0.40314114],\n",
       "       [-0.9735923 , -0.43549543, -0.35488227, -0.58560509, -1.18307508],\n",
       "       [-1.85770055, -1.34523126, -1.22926726, -1.42291815, -1.97517905]])"
      ]
     },
     "execution_count": 4,
     "metadata": {},
     "output_type": "execute_result"
    }
   ],
   "source": [
    "maze1.evaluate(0.9)"
   ]
  },
  {
   "cell_type": "code",
   "execution_count": 5,
   "metadata": {},
   "outputs": [
    {
     "data": {
      "text/plain": [
       "array([ 3.30919888,  8.78949409,  4.4278208 ,  5.3225686 ,  1.49237943,\n",
       "        1.52179059,  2.99252004,  2.25034156,  1.90777275,  0.5476034 ,\n",
       "        0.051025  ,  0.73837276,  0.67331488,  0.35838728, -0.40294041,\n",
       "       -0.97338981, -0.43529326, -0.35468064, -0.585404  , -1.18287432,\n",
       "       -1.85749806, -1.3450291 , -1.22906562, -1.42271704, -1.97497827])"
      ]
     },
     "execution_count": 5,
     "metadata": {},
     "output_type": "execute_result"
    }
   ],
   "source": [
    "maze1.evaluate(0.9, direct=False)[-1]"
   ]
  },
  {
   "cell_type": "code",
   "execution_count": 6,
   "metadata": {},
   "outputs": [
    {
     "data": {
      "text/plain": [
       "array([ 3.30901641,  8.78930766,  4.42763437,  5.32238134,  1.49219316,\n",
       "        1.52160654,  2.99233348,  2.25015413,  1.90758496,  0.54741581,\n",
       "        0.05084012,  0.73818574,  0.67312688,  0.35819896, -0.40312873,\n",
       "       -0.97357513, -0.43548062, -0.35486898, -0.58559268, -1.18306305,\n",
       "       -1.85768358, -1.34521662, -1.22925413, -1.4229059 , -1.97516718])"
      ]
     },
     "execution_count": 6,
     "metadata": {},
     "output_type": "execute_result"
    }
   ],
   "source": [
    "maze1.evaluate(0.9, direct=False, inplace=True)[0]"
   ]
  },
  {
   "cell_type": "code",
   "execution_count": null,
   "metadata": {},
   "outputs": [],
   "source": []
  }
 ],
 "metadata": {
  "kernelspec": {
   "display_name": "Python 3",
   "language": "python",
   "name": "python3"
  },
  "language_info": {
   "codemirror_mode": {
    "name": "ipython",
    "version": 3
   },
   "file_extension": ".py",
   "mimetype": "text/x-python",
   "name": "python",
   "nbconvert_exporter": "python",
   "pygments_lexer": "ipython3",
   "version": "3.8.3"
  }
 },
 "nbformat": 4,
 "nbformat_minor": 4
}
